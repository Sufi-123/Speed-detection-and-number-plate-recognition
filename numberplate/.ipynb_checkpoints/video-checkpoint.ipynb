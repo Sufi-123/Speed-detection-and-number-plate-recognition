{
 "cells": [
  {
   "cell_type": "code",
   "execution_count": 1,
   "id": "c1c32453",
   "metadata": {
    "colab": {
     "base_uri": "https://localhost:8080/"
    },
    "id": "c1c32453",
    "outputId": "08c5614f-d1c6-4a54-8430-4ef33e519459"
   },
   "outputs": [
    {
     "name": "stderr",
     "output_type": "stream",
     "text": [
      "Ultralytics YOLOv8.0.117 🚀 Python-3.9.13 torch-2.0.1+cu117 CPU\n",
      "Setup complete ✅ (4 CPUs, 3.7 GB RAM, 90.0/233.2 GB disk)\n"
     ]
    }
   ],
   "source": [
    "import cv2\n",
    "import easyocr\n",
    "from IPython.display import Image, display\n",
    "import numpy as np\n",
    "import ultralytics\n",
    "ultralytics.checks()\n",
    "from ultralytics import YOLO\n",
    "import re"
   ]
  },
  {
   "cell_type": "code",
   "execution_count": 2,
   "id": "XmMZ8Ux4HnZg",
   "metadata": {
    "id": "XmMZ8Ux4HnZg"
   },
   "outputs": [],
   "source": [
    "# !pip install ultralytics"
   ]
  },
  {
   "cell_type": "code",
   "execution_count": 3,
   "id": "3499ff56",
   "metadata": {
    "id": "3499ff56"
   },
   "outputs": [],
   "source": [
    "# Load a pretrained model\n",
    "model = YOLO('best.pt')\n",
    "model.conf = 0.4  # Confidence threshold for detection\n"
   ]
  },
  {
   "cell_type": "code",
   "execution_count": 4,
   "id": "hLSi_zmm265X",
   "metadata": {
    "id": "hLSi_zmm265X"
   },
   "outputs": [],
   "source": [
    "def preprocess_image(image):\n",
    "    # Convert to grayscale\n",
    "    grayscale_image = cv2.cvtColor(image, cv2.COLOR_BGR2GRAY)\n",
    "    # Display the grayscale image\n",
    "    display(Image(data=cv2.imencode('.jpg',grayscale_image)[1].tobytes()))\n",
    "    # # Apply denoising filter\n",
    "    # denoised_image = cv2.GaussianBlur(grayscale_image, (3, 3), 0)\n",
    "    # Apply contrast enhancement\n",
    "    # equalized_image = cv2.equalizeHist(grayscale_image)\n",
    "    # Display the preprocessed image\n",
    "    # display(Image(data=cv2.imencode('.jpg', equalized_image)[1].tobytes()))\n",
    "    # Apply image sharpening\n",
    "    sharpened_image = cv2.filter2D(grayscale_image, -1, np.array([[-1, -1, -1], [-1, 9, -1], [-1, -1, -1]]))\n",
    "    # Display the preprocessed image\n",
    "    display(Image(data=cv2.imencode('.jpg', sharpened_image)[1].tobytes()))\n",
    "    return grayscale_image"
   ]
  },
  {
   "cell_type": "code",
   "execution_count": 5,
   "id": "Dq_8LWSV3Dm7",
   "metadata": {
    "id": "Dq_8LWSV3Dm7"
   },
   "outputs": [],
   "source": [
    "def threshold(image):\n",
    "    # Apply Otsu thresholding\n",
    "    _, threshold_image = cv2.threshold(image, 0, 255, cv2.THRESH_BINARY_INV + cv2.THRESH_OTSU)\n",
    "    # Display the threshold image\n",
    "    display(Image(data=cv2.imencode('.jpg',threshold_image)[1].tobytes()))\n",
    "    return threshold_image"
   ]
  },
  {
   "cell_type": "code",
   "execution_count": 6,
   "id": "y-N7h7Xd3GV3",
   "metadata": {
    "id": "y-N7h7Xd3GV3"
   },
   "outputs": [],
   "source": [
    "def ocrImage(image):\n",
    "    # Perform OCR on the thresholded image\n",
    "    recognized_plates=[]\n",
    "    reader = easyocr.Reader(['en', 'ne'])\n",
    "    result = reader.readtext(image, allowlist='0123456789ABCDEFGHIJKLMNOPQRSTUVWXYZ ', detail=0)\n",
    "    recognized_plates = [''.join(result)]\n",
    "    return recognized_plates\n"
   ]
  },
  {
   "cell_type": "code",
   "execution_count": 7,
   "id": "-4ZEDG0UDqRF",
   "metadata": {
    "id": "-4ZEDG0UDqRF"
   },
   "outputs": [],
   "source": [
    "# reader = easyocr.Reader(['en', 'ne'])"
   ]
  },
  {
   "cell_type": "code",
   "execution_count": 14,
   "id": "b71b417d",
   "metadata": {
    "id": "b71b417d"
   },
   "outputs": [],
   "source": [
    "def recognize_number_plate(video_path):\n",
    "    # Open the video file\n",
    "    video = cv2.VideoCapture(video_path)\n",
    "    \n",
    "    # Initialize variables to keep track of previous recognized plate\n",
    "    prev_plate = None\n",
    "    \n",
    "    # Read frames from the video\n",
    "    while True:\n",
    "        ret, frame = video.read()\n",
    "        \n",
    "        # Check if a frame was successfully read\n",
    "        if not ret:\n",
    "            break\n",
    "        \n",
    "        # Perform object detection using YOLO\n",
    "        detections = model(frame)\n",
    "        \n",
    "        # Extract bounding boxes and crop number plate regions\n",
    "        number_plate_box = None\n",
    "        for detection in detections[0].boxes.data:\n",
    "            if detection[5] == 0:  \n",
    "                number_plate_box = detection[:4]\n",
    "                break\n",
    "        \n",
    "        # Crop the number plate region\n",
    "        if number_plate_box is not None:\n",
    "            x1, y1, x2, y2 = number_plate_box\n",
    "            cropped_image = frame[int(y1):int(y2), int(x1):int(x2)]\n",
    "            \n",
    "            # Perform OCR on the number plate image\n",
    "            result = reader.readtext(cropped_image, allowlist='0123456789ABCDEFGHIJKLMNOPQRSTUVWXYZ ', detail=0)\n",
    "            \n",
    "            # Extract the text from the OCR result\n",
    "            recognized_plate = ''.join(result)\n",
    "            \n",
    "            # Check if the recognized plate is different from the previous plate\n",
    "            if recognized_plate != prev_plate:\n",
    "                # Print the recognized plate for the new vehicle\n",
    "                print(\"Number Plate:\",recognized_plate)\n",
    "                \n",
    "                # Update the previous plate with the new plate\n",
    "                prev_plate = recognized_plate\n",
    "    \n",
    "    # Release the video file\n",
    "    video.release()\n"
   ]
  },
  {
   "cell_type": "code",
   "execution_count": null,
   "id": "75027807",
   "metadata": {
    "colab": {
     "base_uri": "https://localhost:8080/",
     "height": 1000
    },
    "id": "75027807",
    "outputId": "657c9bd5-6daf-4db8-8b9c-5931a61e9232"
   },
   "outputs": [
    {
     "name": "stderr",
     "output_type": "stream",
     "text": [
      "\n",
      "0: 544x800 2 License-plates, 432.5ms\n",
      "Speed: 8.7ms preprocess, 432.5ms inference, 0.9ms postprocess per image at shape (1, 3, 800, 800)\n",
      "\n"
     ]
    },
    {
     "name": "stdout",
     "output_type": "stream",
     "text": [
      "Number Plate: R183 JF\n"
     ]
    },
    {
     "name": "stderr",
     "output_type": "stream",
     "text": [
      "0: 544x800 2 License-plates, 422.9ms\n",
      "Speed: 6.6ms preprocess, 422.9ms inference, 0.9ms postprocess per image at shape (1, 3, 800, 800)\n",
      "\n",
      "0: 544x800 2 License-plates, 416.7ms\n",
      "Speed: 6.8ms preprocess, 416.7ms inference, 1.0ms postprocess per image at shape (1, 3, 800, 800)\n",
      "\n",
      "0: 544x800 2 License-plates, 445.1ms\n",
      "Speed: 10.4ms preprocess, 445.1ms inference, 1.0ms postprocess per image at shape (1, 3, 800, 800)\n",
      "\n",
      "0: 544x800 1 License-plate, 582.4ms\n",
      "Speed: 7.0ms preprocess, 582.4ms inference, 0.9ms postprocess per image at shape (1, 3, 800, 800)\n",
      "\n",
      "0: 544x800 2 License-plates, 408.3ms\n",
      "Speed: 7.3ms preprocess, 408.3ms inference, 1.0ms postprocess per image at shape (1, 3, 800, 800)\n",
      "\n",
      "0: 544x800 2 License-plates, 410.5ms\n",
      "Speed: 6.8ms preprocess, 410.5ms inference, 0.9ms postprocess per image at shape (1, 3, 800, 800)\n",
      "\n",
      "0: 544x800 1 License-plate, 526.6ms\n",
      "Speed: 8.0ms preprocess, 526.6ms inference, 0.9ms postprocess per image at shape (1, 3, 800, 800)\n",
      "\n",
      "0: 544x800 1 License-plate, 505.8ms\n",
      "Speed: 7.3ms preprocess, 505.8ms inference, 0.9ms postprocess per image at shape (1, 3, 800, 800)\n",
      "\n"
     ]
    },
    {
     "name": "stdout",
     "output_type": "stream",
     "text": [
      "Number Plate: R 183 JF\n"
     ]
    },
    {
     "name": "stderr",
     "output_type": "stream",
     "text": [
      "0: 544x800 1 License-plate, 427.7ms\n",
      "Speed: 7.0ms preprocess, 427.7ms inference, 0.9ms postprocess per image at shape (1, 3, 800, 800)\n",
      "\n"
     ]
    },
    {
     "name": "stdout",
     "output_type": "stream",
     "text": [
      "Number Plate: R183JF\n"
     ]
    },
    {
     "name": "stderr",
     "output_type": "stream",
     "text": [
      "0: 544x800 2 License-plates, 438.5ms\n",
      "Speed: 7.7ms preprocess, 438.5ms inference, 0.9ms postprocess per image at shape (1, 3, 800, 800)\n",
      "\n"
     ]
    },
    {
     "name": "stdout",
     "output_type": "stream",
     "text": [
      "Number Plate: R183 JF\n"
     ]
    },
    {
     "name": "stderr",
     "output_type": "stream",
     "text": [
      "0: 544x800 2 License-plates, 454.7ms\n",
      "Speed: 8.2ms preprocess, 454.7ms inference, 0.9ms postprocess per image at shape (1, 3, 800, 800)\n",
      "\n",
      "0: 544x800 2 License-plates, 420.0ms\n",
      "Speed: 6.7ms preprocess, 420.0ms inference, 1.5ms postprocess per image at shape (1, 3, 800, 800)\n",
      "\n"
     ]
    },
    {
     "name": "stdout",
     "output_type": "stream",
     "text": [
      "Number Plate: IR183 JF\n"
     ]
    },
    {
     "name": "stderr",
     "output_type": "stream",
     "text": [
      "0: 544x800 2 License-plates, 508.9ms\n",
      "Speed: 6.4ms preprocess, 508.9ms inference, 0.9ms postprocess per image at shape (1, 3, 800, 800)\n",
      "\n"
     ]
    },
    {
     "name": "stdout",
     "output_type": "stream",
     "text": [
      "Number Plate: IR 183 JF\n"
     ]
    },
    {
     "name": "stderr",
     "output_type": "stream",
     "text": [
      "0: 544x800 2 License-plates, 612.9ms\n",
      "Speed: 7.6ms preprocess, 612.9ms inference, 1.0ms postprocess per image at shape (1, 3, 800, 800)\n",
      "\n",
      "0: 544x800 2 License-plates, 422.0ms\n",
      "Speed: 7.0ms preprocess, 422.0ms inference, 1.0ms postprocess per image at shape (1, 3, 800, 800)\n",
      "\n"
     ]
    },
    {
     "name": "stdout",
     "output_type": "stream",
     "text": [
      "Number Plate: R183 JF\n"
     ]
    },
    {
     "name": "stderr",
     "output_type": "stream",
     "text": [
      "0: 544x800 1 License-plate, 588.2ms\n",
      "Speed: 9.1ms preprocess, 588.2ms inference, 1.2ms postprocess per image at shape (1, 3, 800, 800)\n",
      "\n",
      "0: 544x800 1 License-plate, 414.4ms\n",
      "Speed: 7.2ms preprocess, 414.4ms inference, 0.9ms postprocess per image at shape (1, 3, 800, 800)\n",
      "\n",
      "0: 544x800 2 License-plates, 443.3ms\n",
      "Speed: 7.1ms preprocess, 443.3ms inference, 0.9ms postprocess per image at shape (1, 3, 800, 800)\n",
      "\n"
     ]
    },
    {
     "name": "stdout",
     "output_type": "stream",
     "text": [
      "Number Plate: R 183 JF\n"
     ]
    },
    {
     "name": "stderr",
     "output_type": "stream",
     "text": [
      "0: 544x800 2 License-plates, 477.9ms\n",
      "Speed: 6.9ms preprocess, 477.9ms inference, 0.9ms postprocess per image at shape (1, 3, 800, 800)\n",
      "\n"
     ]
    },
    {
     "name": "stdout",
     "output_type": "stream",
     "text": [
      "Number Plate: R183 JF\n"
     ]
    },
    {
     "name": "stderr",
     "output_type": "stream",
     "text": [
      "0: 544x800 2 License-plates, 581.6ms\n",
      "Speed: 8.9ms preprocess, 581.6ms inference, 0.9ms postprocess per image at shape (1, 3, 800, 800)\n",
      "\n"
     ]
    },
    {
     "name": "stdout",
     "output_type": "stream",
     "text": [
      "Number Plate: R 183FJF\n"
     ]
    },
    {
     "name": "stderr",
     "output_type": "stream",
     "text": [
      "0: 544x800 2 License-plates, 582.2ms\n",
      "Speed: 6.8ms preprocess, 582.2ms inference, 1.2ms postprocess per image at shape (1, 3, 800, 800)\n",
      "\n"
     ]
    },
    {
     "name": "stdout",
     "output_type": "stream",
     "text": [
      "Number Plate: R183 JF\n"
     ]
    },
    {
     "name": "stderr",
     "output_type": "stream",
     "text": [
      "0: 544x800 2 License-plates, 591.9ms\n",
      "Speed: 8.1ms preprocess, 591.9ms inference, 0.9ms postprocess per image at shape (1, 3, 800, 800)\n",
      "\n"
     ]
    },
    {
     "name": "stdout",
     "output_type": "stream",
     "text": [
      "Number Plate: IR7183 JF\n"
     ]
    },
    {
     "name": "stderr",
     "output_type": "stream",
     "text": [
      "0: 544x800 2 License-plates, 419.5ms\n",
      "Speed: 11.4ms preprocess, 419.5ms inference, 1.1ms postprocess per image at shape (1, 3, 800, 800)\n",
      "\n"
     ]
    },
    {
     "name": "stdout",
     "output_type": "stream",
     "text": [
      "Number Plate: IR 183 JF\n"
     ]
    },
    {
     "name": "stderr",
     "output_type": "stream",
     "text": [
      "0: 544x800 1 License-plate, 427.7ms\n",
      "Speed: 6.2ms preprocess, 427.7ms inference, 0.9ms postprocess per image at shape (1, 3, 800, 800)\n",
      "\n",
      "0: 544x800 2 License-plates, 413.8ms\n",
      "Speed: 6.6ms preprocess, 413.8ms inference, 1.0ms postprocess per image at shape (1, 3, 800, 800)\n",
      "\n"
     ]
    },
    {
     "name": "stdout",
     "output_type": "stream",
     "text": [
      "Number Plate: R183 JF\n"
     ]
    },
    {
     "name": "stderr",
     "output_type": "stream",
     "text": [
      "0: 544x800 2 License-plates, 413.4ms\n",
      "Speed: 6.7ms preprocess, 413.4ms inference, 0.9ms postprocess per image at shape (1, 3, 800, 800)\n",
      "\n",
      "0: 544x800 1 License-plate, 407.1ms\n",
      "Speed: 6.3ms preprocess, 407.1ms inference, 1.0ms postprocess per image at shape (1, 3, 800, 800)\n",
      "\n"
     ]
    },
    {
     "name": "stdout",
     "output_type": "stream",
     "text": [
      "Number Plate: R 183JF\n"
     ]
    },
    {
     "name": "stderr",
     "output_type": "stream",
     "text": [
      "0: 544x800 2 License-plates, 414.4ms\n",
      "Speed: 6.6ms preprocess, 414.4ms inference, 0.9ms postprocess per image at shape (1, 3, 800, 800)\n",
      "\n"
     ]
    },
    {
     "name": "stdout",
     "output_type": "stream",
     "text": [
      "Number Plate: 087 J\n"
     ]
    },
    {
     "name": "stderr",
     "output_type": "stream",
     "text": [
      "0: 544x800 (no detections), 418.1ms\n",
      "Speed: 6.7ms preprocess, 418.1ms inference, 0.4ms postprocess per image at shape (1, 3, 800, 800)\n",
      "\n",
      "0: 544x800 1 License-plate, 449.0ms\n",
      "Speed: 7.0ms preprocess, 449.0ms inference, 1.0ms postprocess per image at shape (1, 3, 800, 800)\n",
      "\n"
     ]
    },
    {
     "name": "stdout",
     "output_type": "stream",
     "text": [
      "Number Plate: R1811\n"
     ]
    },
    {
     "name": "stderr",
     "output_type": "stream",
     "text": [
      "0: 544x800 2 License-plates, 484.6ms\n",
      "Speed: 6.4ms preprocess, 484.6ms inference, 1.1ms postprocess per image at shape (1, 3, 800, 800)\n",
      "\n"
     ]
    },
    {
     "name": "stdout",
     "output_type": "stream",
     "text": [
      "Number Plate: 1870\n"
     ]
    },
    {
     "name": "stderr",
     "output_type": "stream",
     "text": [
      "0: 544x800 (no detections), 514.1ms\n",
      "Speed: 6.9ms preprocess, 514.1ms inference, 0.5ms postprocess per image at shape (1, 3, 800, 800)\n",
      "\n",
      "0: 544x800 2 License-plates, 437.3ms\n",
      "Speed: 8.9ms preprocess, 437.3ms inference, 0.9ms postprocess per image at shape (1, 3, 800, 800)\n",
      "\n"
     ]
    },
    {
     "name": "stdout",
     "output_type": "stream",
     "text": [
      "Number Plate: IW 87 J5\n"
     ]
    },
    {
     "name": "stderr",
     "output_type": "stream",
     "text": [
      "0: 544x800 2 License-plates, 431.2ms\n",
      "Speed: 7.5ms preprocess, 431.2ms inference, 1.0ms postprocess per image at shape (1, 3, 800, 800)\n",
      "\n"
     ]
    },
    {
     "name": "stdout",
     "output_type": "stream",
     "text": [
      "Number Plate: R81 J\n"
     ]
    },
    {
     "name": "stderr",
     "output_type": "stream",
     "text": [
      "0: 544x800 1 License-plate, 549.6ms\n",
      "Speed: 8.8ms preprocess, 549.6ms inference, 1.1ms postprocess per image at shape (1, 3, 800, 800)\n",
      "\n"
     ]
    },
    {
     "name": "stdout",
     "output_type": "stream",
     "text": [
      "Number Plate: RI8  JE\n"
     ]
    },
    {
     "name": "stderr",
     "output_type": "stream",
     "text": [
      "0: 544x800 1 License-plate, 415.8ms\n",
      "Speed: 6.6ms preprocess, 415.8ms inference, 0.9ms postprocess per image at shape (1, 3, 800, 800)\n",
      "\n"
     ]
    },
    {
     "name": "stdout",
     "output_type": "stream",
     "text": [
      "Number Plate: \n"
     ]
    },
    {
     "name": "stderr",
     "output_type": "stream",
     "text": [
      "0: 544x800 2 License-plates, 413.3ms\n",
      "Speed: 6.4ms preprocess, 413.3ms inference, 0.9ms postprocess per image at shape (1, 3, 800, 800)\n",
      "\n",
      "0: 544x800 2 License-plates, 520.2ms\n",
      "Speed: 7.5ms preprocess, 520.2ms inference, 0.9ms postprocess per image at shape (1, 3, 800, 800)\n",
      "\n",
      "0: 544x800 2 License-plates, 450.1ms\n",
      "Speed: 8.9ms preprocess, 450.1ms inference, 0.9ms postprocess per image at shape (1, 3, 800, 800)\n",
      "\n",
      "0: 544x800 2 License-plates, 471.0ms\n",
      "Speed: 7.1ms preprocess, 471.0ms inference, 1.6ms postprocess per image at shape (1, 3, 800, 800)\n",
      "\n",
      "0: 544x800 2 License-plates, 546.4ms\n",
      "Speed: 8.8ms preprocess, 546.4ms inference, 1.0ms postprocess per image at shape (1, 3, 800, 800)\n",
      "\n",
      "0: 544x800 1 License-plate, 480.9ms\n",
      "Speed: 6.6ms preprocess, 480.9ms inference, 0.9ms postprocess per image at shape (1, 3, 800, 800)\n",
      "\n",
      "0: 544x800 1 License-plate, 486.7ms\n",
      "Speed: 6.7ms preprocess, 486.7ms inference, 0.9ms postprocess per image at shape (1, 3, 800, 800)\n",
      "\n",
      "0: 544x800 2 License-plates, 479.2ms\n",
      "Speed: 7.0ms preprocess, 479.2ms inference, 1.1ms postprocess per image at shape (1, 3, 800, 800)\n",
      "\n",
      "0: 544x800 1 License-plate, 521.6ms\n",
      "Speed: 8.2ms preprocess, 521.6ms inference, 1.6ms postprocess per image at shape (1, 3, 800, 800)\n",
      "\n",
      "0: 544x800 1 License-plate, 427.5ms\n",
      "Speed: 8.2ms preprocess, 427.5ms inference, 0.9ms postprocess per image at shape (1, 3, 800, 800)\n",
      "\n",
      "0: 544x800 1 License-plate, 407.3ms\n",
      "Speed: 7.0ms preprocess, 407.3ms inference, 1.0ms postprocess per image at shape (1, 3, 800, 800)\n",
      "\n"
     ]
    },
    {
     "name": "stdout",
     "output_type": "stream",
     "text": [
      "Number Plate: 139212\n"
     ]
    },
    {
     "name": "stderr",
     "output_type": "stream",
     "text": [
      "0: 544x800 1 License-plate, 436.1ms\n",
      "Speed: 6.5ms preprocess, 436.1ms inference, 0.9ms postprocess per image at shape (1, 3, 800, 800)\n",
      "\n"
     ]
    },
    {
     "name": "stdout",
     "output_type": "stream",
     "text": [
      "Number Plate: 78 1\n"
     ]
    },
    {
     "name": "stderr",
     "output_type": "stream",
     "text": [
      "0: 544x800 2 License-plates, 426.8ms\n",
      "Speed: 6.8ms preprocess, 426.8ms inference, 0.9ms postprocess per image at shape (1, 3, 800, 800)\n",
      "\n"
     ]
    },
    {
     "name": "stdout",
     "output_type": "stream",
     "text": [
      "Number Plate: 159 \n"
     ]
    },
    {
     "name": "stderr",
     "output_type": "stream",
     "text": [
      "0: 544x800 2 License-plates, 427.7ms\n",
      "Speed: 7.2ms preprocess, 427.7ms inference, 0.9ms postprocess per image at shape (1, 3, 800, 800)\n",
      "\n"
     ]
    },
    {
     "name": "stdout",
     "output_type": "stream",
     "text": [
      "Number Plate: 5 69 3\n"
     ]
    },
    {
     "name": "stderr",
     "output_type": "stream",
     "text": [
      "0: 544x800 1 License-plate, 465.8ms\n",
      "Speed: 6.8ms preprocess, 465.8ms inference, 2.0ms postprocess per image at shape (1, 3, 800, 800)\n",
      "\n"
     ]
    },
    {
     "name": "stdout",
     "output_type": "stream",
     "text": [
      "Number Plate: 1692 2\n"
     ]
    },
    {
     "name": "stderr",
     "output_type": "stream",
     "text": [
      "0: 544x800 1 License-plate, 432.0ms\n",
      "Speed: 6.7ms preprocess, 432.0ms inference, 1.5ms postprocess per image at shape (1, 3, 800, 800)\n",
      "\n"
     ]
    },
    {
     "name": "stdout",
     "output_type": "stream",
     "text": [
      "Number Plate: 1 897 \n"
     ]
    },
    {
     "name": "stderr",
     "output_type": "stream",
     "text": [
      "0: 544x800 1 License-plate, 477.7ms\n",
      "Speed: 5.3ms preprocess, 477.7ms inference, 1.6ms postprocess per image at shape (1, 3, 800, 800)\n",
      "\n"
     ]
    },
    {
     "name": "stdout",
     "output_type": "stream",
     "text": [
      "Number Plate: 1 894\n"
     ]
    },
    {
     "name": "stderr",
     "output_type": "stream",
     "text": [
      "0: 544x800 2 License-plates, 602.3ms\n",
      "Speed: 6.8ms preprocess, 602.3ms inference, 1.6ms postprocess per image at shape (1, 3, 800, 800)\n",
      "\n"
     ]
    },
    {
     "name": "stdout",
     "output_type": "stream",
     "text": [
      "Number Plate: 0892\n"
     ]
    },
    {
     "name": "stderr",
     "output_type": "stream",
     "text": [
      "0: 544x800 2 License-plates, 519.1ms\n",
      "Speed: 6.3ms preprocess, 519.1ms inference, 0.9ms postprocess per image at shape (1, 3, 800, 800)\n",
      "\n"
     ]
    },
    {
     "name": "stdout",
     "output_type": "stream",
     "text": [
      "Number Plate: 1 89\n"
     ]
    },
    {
     "name": "stderr",
     "output_type": "stream",
     "text": [
      "0: 544x800 2 License-plates, 481.3ms\n",
      "Speed: 6.4ms preprocess, 481.3ms inference, 0.9ms postprocess per image at shape (1, 3, 800, 800)\n",
      "\n"
     ]
    },
    {
     "name": "stdout",
     "output_type": "stream",
     "text": [
      "Number Plate: 01894  \n"
     ]
    },
    {
     "name": "stderr",
     "output_type": "stream",
     "text": [
      "0: 544x800 2 License-plates, 444.0ms\n",
      "Speed: 10.4ms preprocess, 444.0ms inference, 0.9ms postprocess per image at shape (1, 3, 800, 800)\n",
      "\n"
     ]
    },
    {
     "name": "stdout",
     "output_type": "stream",
     "text": [
      "Number Plate: 1 894\n"
     ]
    },
    {
     "name": "stderr",
     "output_type": "stream",
     "text": [
      "0: 544x800 2 License-plates, 434.2ms\n",
      "Speed: 6.8ms preprocess, 434.2ms inference, 0.9ms postprocess per image at shape (1, 3, 800, 800)\n",
      "\n"
     ]
    },
    {
     "name": "stdout",
     "output_type": "stream",
     "text": [
      "Number Plate: 18940\n"
     ]
    },
    {
     "name": "stderr",
     "output_type": "stream",
     "text": [
      "0: 544x800 1 License-plate, 527.4ms\n",
      "Speed: 9.2ms preprocess, 527.4ms inference, 1.3ms postprocess per image at shape (1, 3, 800, 800)\n",
      "\n"
     ]
    },
    {
     "name": "stdout",
     "output_type": "stream",
     "text": [
      "Number Plate: 1894 \n"
     ]
    },
    {
     "name": "stderr",
     "output_type": "stream",
     "text": [
      "0: 544x800 2 License-plates, 414.8ms\n",
      "Speed: 6.1ms preprocess, 414.8ms inference, 0.9ms postprocess per image at shape (1, 3, 800, 800)\n",
      "\n"
     ]
    },
    {
     "name": "stdout",
     "output_type": "stream",
     "text": [
      "Number Plate: 11894\n"
     ]
    },
    {
     "name": "stderr",
     "output_type": "stream",
     "text": [
      "0: 544x800 1 License-plate, 469.6ms\n",
      "Speed: 7.7ms preprocess, 469.6ms inference, 0.9ms postprocess per image at shape (1, 3, 800, 800)\n",
      "\n"
     ]
    },
    {
     "name": "stdout",
     "output_type": "stream",
     "text": [
      "Number Plate: 117894\n"
     ]
    },
    {
     "name": "stderr",
     "output_type": "stream",
     "text": [
      "0: 544x800 2 License-plates, 534.4ms\n",
      "Speed: 6.3ms preprocess, 534.4ms inference, 1.1ms postprocess per image at shape (1, 3, 800, 800)\n",
      "\n"
     ]
    },
    {
     "name": "stdout",
     "output_type": "stream",
     "text": [
      "Number Plate: 1 8740\n"
     ]
    },
    {
     "name": "stderr",
     "output_type": "stream",
     "text": [
      "0: 544x800 2 License-plates, 533.1ms\n",
      "Speed: 6.4ms preprocess, 533.1ms inference, 1.0ms postprocess per image at shape (1, 3, 800, 800)\n",
      "\n"
     ]
    },
    {
     "name": "stdout",
     "output_type": "stream",
     "text": [
      "Number Plate: 189210\n"
     ]
    },
    {
     "name": "stderr",
     "output_type": "stream",
     "text": [
      "0: 544x800 2 License-plates, 507.4ms\n",
      "Speed: 8.5ms preprocess, 507.4ms inference, 0.9ms postprocess per image at shape (1, 3, 800, 800)\n",
      "\n"
     ]
    },
    {
     "name": "stdout",
     "output_type": "stream",
     "text": [
      "Number Plate: 11894 0\n"
     ]
    },
    {
     "name": "stderr",
     "output_type": "stream",
     "text": [
      "0: 544x800 2 License-plates, 476.5ms\n",
      "Speed: 6.6ms preprocess, 476.5ms inference, 1.0ms postprocess per image at shape (1, 3, 800, 800)\n",
      "\n"
     ]
    },
    {
     "name": "stdout",
     "output_type": "stream",
     "text": [
      "Number Plate: 11894 1\n"
     ]
    },
    {
     "name": "stderr",
     "output_type": "stream",
     "text": [
      "0: 544x800 2 License-plates, 426.0ms\n",
      "Speed: 6.5ms preprocess, 426.0ms inference, 0.9ms postprocess per image at shape (1, 3, 800, 800)\n",
      "\n",
      "0: 544x800 2 License-plates, 507.8ms\n",
      "Speed: 6.3ms preprocess, 507.8ms inference, 1.0ms postprocess per image at shape (1, 3, 800, 800)\n",
      "\n"
     ]
    },
    {
     "name": "stdout",
     "output_type": "stream",
     "text": [
      "Number Plate: 11894 0\n"
     ]
    },
    {
     "name": "stderr",
     "output_type": "stream",
     "text": [
      "0: 544x800 2 License-plates, 417.7ms\n",
      "Speed: 5.6ms preprocess, 417.7ms inference, 0.9ms postprocess per image at shape (1, 3, 800, 800)\n",
      "\n"
     ]
    },
    {
     "name": "stdout",
     "output_type": "stream",
     "text": [
      "Number Plate: 11 894 J1\n"
     ]
    },
    {
     "name": "stderr",
     "output_type": "stream",
     "text": [
      "0: 544x800 2 License-plates, 737.7ms\n",
      "Speed: 7.5ms preprocess, 737.7ms inference, 0.9ms postprocess per image at shape (1, 3, 800, 800)\n",
      "\n"
     ]
    },
    {
     "name": "stdout",
     "output_type": "stream",
     "text": [
      "Number Plate: 01 89401\n"
     ]
    },
    {
     "name": "stderr",
     "output_type": "stream",
     "text": [
      "0: 544x800 1 License-plate, 423.4ms\n",
      "Speed: 6.1ms preprocess, 423.4ms inference, 0.9ms postprocess per image at shape (1, 3, 800, 800)\n",
      "\n"
     ]
    },
    {
     "name": "stdout",
     "output_type": "stream",
     "text": [
      "Number Plate: 1 894 0V\n"
     ]
    },
    {
     "name": "stderr",
     "output_type": "stream",
     "text": [
      "0: 544x800 1 License-plate, 488.7ms\n",
      "Speed: 6.8ms preprocess, 488.7ms inference, 0.9ms postprocess per image at shape (1, 3, 800, 800)\n",
      "\n"
     ]
    },
    {
     "name": "stdout",
     "output_type": "stream",
     "text": [
      "Number Plate: M 894 J1\n"
     ]
    },
    {
     "name": "stderr",
     "output_type": "stream",
     "text": [
      "0: 544x800 2 License-plates, 474.0ms\n",
      "Speed: 7.4ms preprocess, 474.0ms inference, 1.6ms postprocess per image at shape (1, 3, 800, 800)\n",
      "\n"
     ]
    },
    {
     "name": "stdout",
     "output_type": "stream",
     "text": [
      "Number Plate: 1 894 V\n"
     ]
    },
    {
     "name": "stderr",
     "output_type": "stream",
     "text": [
      "0: 544x800 1 License-plate, 413.0ms\n",
      "Speed: 7.2ms preprocess, 413.0ms inference, 1.1ms postprocess per image at shape (1, 3, 800, 800)\n",
      "\n",
      "0: 544x800 1 License-plate, 409.0ms\n",
      "Speed: 6.8ms preprocess, 409.0ms inference, 0.9ms postprocess per image at shape (1, 3, 800, 800)\n",
      "\n",
      "0: 544x800 1 License-plate, 407.3ms\n",
      "Speed: 7.0ms preprocess, 407.3ms inference, 0.9ms postprocess per image at shape (1, 3, 800, 800)\n",
      "\n"
     ]
    },
    {
     "name": "stdout",
     "output_type": "stream",
     "text": [
      "Number Plate: 0 894 V\n"
     ]
    },
    {
     "name": "stderr",
     "output_type": "stream",
     "text": [
      "0: 544x800 1 License-plate, 414.2ms\n",
      "Speed: 6.2ms preprocess, 414.2ms inference, 0.9ms postprocess per image at shape (1, 3, 800, 800)\n",
      "\n"
     ]
    },
    {
     "name": "stdout",
     "output_type": "stream",
     "text": [
      "Number Plate: 1 894 7\n"
     ]
    },
    {
     "name": "stderr",
     "output_type": "stream",
     "text": [
      "0: 544x800 1 License-plate, 418.4ms\n",
      "Speed: 7.0ms preprocess, 418.4ms inference, 1.1ms postprocess per image at shape (1, 3, 800, 800)\n",
      "\n"
     ]
    },
    {
     "name": "stdout",
     "output_type": "stream",
     "text": [
      "Number Plate: 1 894 J7\n"
     ]
    },
    {
     "name": "stderr",
     "output_type": "stream",
     "text": [
      "0: 544x800 2 License-plates, 424.6ms\n",
      "Speed: 6.1ms preprocess, 424.6ms inference, 0.9ms postprocess per image at shape (1, 3, 800, 800)\n",
      "\n"
     ]
    },
    {
     "name": "stdout",
     "output_type": "stream",
     "text": [
      "Number Plate: 894 JV\n"
     ]
    },
    {
     "name": "stderr",
     "output_type": "stream",
     "text": [
      "0: 544x800 2 License-plates, 418.0ms\n",
      "Speed: 6.9ms preprocess, 418.0ms inference, 1.0ms postprocess per image at shape (1, 3, 800, 800)\n",
      "\n"
     ]
    },
    {
     "name": "stdout",
     "output_type": "stream",
     "text": [
      "Number Plate: 0 894 0V\n"
     ]
    },
    {
     "name": "stderr",
     "output_type": "stream",
     "text": [
      "0: 544x800 1 License-plate, 415.1ms\n",
      "Speed: 6.9ms preprocess, 415.1ms inference, 0.9ms postprocess per image at shape (1, 3, 800, 800)\n",
      "\n"
     ]
    },
    {
     "name": "stdout",
     "output_type": "stream",
     "text": [
      "Number Plate:  894 JV\n"
     ]
    },
    {
     "name": "stderr",
     "output_type": "stream",
     "text": [
      "0: 544x800 1 License-plate, 423.6ms\n",
      "Speed: 6.3ms preprocess, 423.6ms inference, 1.0ms postprocess per image at shape (1, 3, 800, 800)\n",
      "\n"
     ]
    },
    {
     "name": "stdout",
     "output_type": "stream",
     "text": [
      "Number Plate: N894JV\n"
     ]
    },
    {
     "name": "stderr",
     "output_type": "stream",
     "text": [
      "0: 544x800 1 License-plate, 415.6ms\n",
      "Speed: 6.9ms preprocess, 415.6ms inference, 0.9ms postprocess per image at shape (1, 3, 800, 800)\n",
      "\n"
     ]
    },
    {
     "name": "stdout",
     "output_type": "stream",
     "text": [
      "Number Plate:  894 JV\n"
     ]
    },
    {
     "name": "stderr",
     "output_type": "stream",
     "text": [
      "0: 544x800 1 License-plate, 414.0ms\n",
      "Speed: 7.6ms preprocess, 414.0ms inference, 1.0ms postprocess per image at shape (1, 3, 800, 800)\n",
      "\n"
     ]
    },
    {
     "name": "stdout",
     "output_type": "stream",
     "text": [
      "Number Plate:  894 J0\n"
     ]
    },
    {
     "name": "stderr",
     "output_type": "stream",
     "text": [
      "0: 544x800 1 License-plate, 501.4ms\n",
      "Speed: 12.9ms preprocess, 501.4ms inference, 0.9ms postprocess per image at shape (1, 3, 800, 800)\n",
      "\n"
     ]
    },
    {
     "name": "stdout",
     "output_type": "stream",
     "text": [
      "Number Plate: N 894 JV\n"
     ]
    },
    {
     "name": "stderr",
     "output_type": "stream",
     "text": [
      "0: 544x800 1 License-plate, 418.3ms\n",
      "Speed: 6.4ms preprocess, 418.3ms inference, 0.9ms postprocess per image at shape (1, 3, 800, 800)\n",
      "\n"
     ]
    },
    {
     "name": "stdout",
     "output_type": "stream",
     "text": [
      "Number Plate:  894 01\n"
     ]
    },
    {
     "name": "stderr",
     "output_type": "stream",
     "text": [
      "0: 544x800 1 License-plate, 417.5ms\n",
      "Speed: 6.2ms preprocess, 417.5ms inference, 0.9ms postprocess per image at shape (1, 3, 800, 800)\n",
      "\n"
     ]
    },
    {
     "name": "stdout",
     "output_type": "stream",
     "text": [
      "Number Plate: 1N 894 JV\n"
     ]
    },
    {
     "name": "stderr",
     "output_type": "stream",
     "text": [
      "0: 544x800 1 License-plate, 417.1ms\n",
      "Speed: 6.4ms preprocess, 417.1ms inference, 0.9ms postprocess per image at shape (1, 3, 800, 800)\n",
      "\n"
     ]
    },
    {
     "name": "stdout",
     "output_type": "stream",
     "text": [
      "Number Plate: 1N 894JV\n"
     ]
    },
    {
     "name": "stderr",
     "output_type": "stream",
     "text": [
      "0: 544x800 1 License-plate, 608.2ms\n",
      "Speed: 12.7ms preprocess, 608.2ms inference, 1.7ms postprocess per image at shape (1, 3, 800, 800)\n",
      "\n"
     ]
    },
    {
     "name": "stdout",
     "output_type": "stream",
     "text": [
      "Number Plate: N 894 JV\n"
     ]
    },
    {
     "name": "stderr",
     "output_type": "stream",
     "text": [
      "0: 544x800 2 License-plates, 565.2ms\n",
      "Speed: 7.4ms preprocess, 565.2ms inference, 1.0ms postprocess per image at shape (1, 3, 800, 800)\n",
      "\n"
     ]
    },
    {
     "name": "stdout",
     "output_type": "stream",
     "text": [
      "Number Plate: N 89471V\n"
     ]
    },
    {
     "name": "stderr",
     "output_type": "stream",
     "text": [
      "0: 544x800 1 License-plate, 415.2ms\n",
      "Speed: 6.3ms preprocess, 415.2ms inference, 1.0ms postprocess per image at shape (1, 3, 800, 800)\n",
      "\n"
     ]
    },
    {
     "name": "stdout",
     "output_type": "stream",
     "text": [
      "Number Plate: 0894J9\n"
     ]
    },
    {
     "name": "stderr",
     "output_type": "stream",
     "text": [
      "0: 544x800 1 License-plate, 438.8ms\n",
      "Speed: 8.6ms preprocess, 438.8ms inference, 0.9ms postprocess per image at shape (1, 3, 800, 800)\n",
      "\n"
     ]
    },
    {
     "name": "stdout",
     "output_type": "stream",
     "text": [
      "Number Plate: L 6561\n"
     ]
    },
    {
     "name": "stderr",
     "output_type": "stream",
     "text": [
      "0: 544x800 2 License-plates, 415.9ms\n",
      "Speed: 6.6ms preprocess, 415.9ms inference, 0.9ms postprocess per image at shape (1, 3, 800, 800)\n",
      "\n"
     ]
    },
    {
     "name": "stdout",
     "output_type": "stream",
     "text": [
      "Number Plate: L 65631\n"
     ]
    },
    {
     "name": "stderr",
     "output_type": "stream",
     "text": [
      "0: 544x800 1 License-plate, 520.6ms\n",
      "Speed: 6.8ms preprocess, 520.6ms inference, 0.9ms postprocess per image at shape (1, 3, 800, 800)\n",
      "\n"
     ]
    },
    {
     "name": "stdout",
     "output_type": "stream",
     "text": [
      "Number Plate: L6561\n"
     ]
    },
    {
     "name": "stderr",
     "output_type": "stream",
     "text": [
      "0: 544x800 1 License-plate, 536.1ms\n",
      "Speed: 6.5ms preprocess, 536.1ms inference, 2.0ms postprocess per image at shape (1, 3, 800, 800)\n",
      "\n"
     ]
    },
    {
     "name": "stdout",
     "output_type": "stream",
     "text": [
      "Number Plate: L656XH\n"
     ]
    },
    {
     "name": "stderr",
     "output_type": "stream",
     "text": [
      "0: 544x800 1 License-plate, 474.3ms\n",
      "Speed: 6.6ms preprocess, 474.3ms inference, 0.9ms postprocess per image at shape (1, 3, 800, 800)\n",
      "\n"
     ]
    },
    {
     "name": "stdout",
     "output_type": "stream",
     "text": [
      "Number Plate: L56N\n"
     ]
    },
    {
     "name": "stderr",
     "output_type": "stream",
     "text": [
      "0: 544x800 2 License-plates, 487.2ms\n",
      "Speed: 8.4ms preprocess, 487.2ms inference, 1.1ms postprocess per image at shape (1, 3, 800, 800)\n",
      "\n"
     ]
    },
    {
     "name": "stdout",
     "output_type": "stream",
     "text": [
      "Number Plate: L656XH\n"
     ]
    },
    {
     "name": "stderr",
     "output_type": "stream",
     "text": [
      "0: 544x800 1 License-plate, 447.7ms\n",
      "Speed: 7.1ms preprocess, 447.7ms inference, 0.9ms postprocess per image at shape (1, 3, 800, 800)\n",
      "\n"
     ]
    },
    {
     "name": "stdout",
     "output_type": "stream",
     "text": [
      "Number Plate: L656X1\n"
     ]
    },
    {
     "name": "stderr",
     "output_type": "stream",
     "text": [
      "0: 544x800 2 License-plates, 456.3ms\n",
      "Speed: 6.5ms preprocess, 456.3ms inference, 3.0ms postprocess per image at shape (1, 3, 800, 800)\n",
      "\n"
     ]
    },
    {
     "name": "stdout",
     "output_type": "stream",
     "text": [
      "Number Plate: L 656XH\n"
     ]
    },
    {
     "name": "stderr",
     "output_type": "stream",
     "text": [
      "0: 544x800 1 License-plate, 480.5ms\n",
      "Speed: 9.4ms preprocess, 480.5ms inference, 1.0ms postprocess per image at shape (1, 3, 800, 800)\n",
      "\n"
     ]
    },
    {
     "name": "stdout",
     "output_type": "stream",
     "text": [
      "Number Plate: L656FXH\n"
     ]
    },
    {
     "name": "stderr",
     "output_type": "stream",
     "text": [
      "0: 544x800 1 License-plate, 536.1ms\n",
      "Speed: 7.1ms preprocess, 536.1ms inference, 1.8ms postprocess per image at shape (1, 3, 800, 800)\n",
      "\n"
     ]
    },
    {
     "name": "stdout",
     "output_type": "stream",
     "text": [
      "Number Plate: L 656 XH\n"
     ]
    },
    {
     "name": "stderr",
     "output_type": "stream",
     "text": [
      "0: 544x800 1 License-plate, 497.5ms\n",
      "Speed: 6.3ms preprocess, 497.5ms inference, 0.9ms postprocess per image at shape (1, 3, 800, 800)\n",
      "\n",
      "0: 544x800 1 License-plate, 493.4ms\n",
      "Speed: 6.2ms preprocess, 493.4ms inference, 1.0ms postprocess per image at shape (1, 3, 800, 800)\n",
      "\n"
     ]
    },
    {
     "name": "stdout",
     "output_type": "stream",
     "text": [
      "Number Plate: L656XH\n"
     ]
    },
    {
     "name": "stderr",
     "output_type": "stream",
     "text": [
      "0: 544x800 1 License-plate, 478.6ms\n",
      "Speed: 6.4ms preprocess, 478.6ms inference, 1.0ms postprocess per image at shape (1, 3, 800, 800)\n",
      "\n",
      "0: 544x800 1 License-plate, 406.6ms\n",
      "Speed: 7.2ms preprocess, 406.6ms inference, 0.9ms postprocess per image at shape (1, 3, 800, 800)\n",
      "\n",
      "0: 544x800 1 License-plate, 410.7ms\n",
      "Speed: 6.9ms preprocess, 410.7ms inference, 0.9ms postprocess per image at shape (1, 3, 800, 800)\n",
      "\n",
      "0: 544x800 1 License-plate, 419.4ms\n",
      "Speed: 7.7ms preprocess, 419.4ms inference, 0.9ms postprocess per image at shape (1, 3, 800, 800)\n",
      "\n",
      "0: 544x800 1 License-plate, 411.1ms\n",
      "Speed: 6.8ms preprocess, 411.1ms inference, 0.9ms postprocess per image at shape (1, 3, 800, 800)\n",
      "\n"
     ]
    },
    {
     "name": "stdout",
     "output_type": "stream",
     "text": [
      "Number Plate: L 656XH\n"
     ]
    },
    {
     "name": "stderr",
     "output_type": "stream",
     "text": [
      "0: 544x800 2 License-plates, 422.9ms\n",
      "Speed: 7.1ms preprocess, 422.9ms inference, 0.9ms postprocess per image at shape (1, 3, 800, 800)\n",
      "\n"
     ]
    },
    {
     "name": "stdout",
     "output_type": "stream",
     "text": [
      "Number Plate: L 656 XH\n"
     ]
    },
    {
     "name": "stderr",
     "output_type": "stream",
     "text": [
      "0: 544x800 1 License-plate, 415.3ms\n",
      "Speed: 7.2ms preprocess, 415.3ms inference, 0.9ms postprocess per image at shape (1, 3, 800, 800)\n",
      "\n"
     ]
    },
    {
     "name": "stdout",
     "output_type": "stream",
     "text": [
      "Number Plate: L 656XH\n"
     ]
    },
    {
     "name": "stderr",
     "output_type": "stream",
     "text": [
      "0: 544x800 2 License-plates, 437.9ms\n",
      "Speed: 6.5ms preprocess, 437.9ms inference, 0.9ms postprocess per image at shape (1, 3, 800, 800)\n",
      "\n",
      "0: 544x800 1 License-plate, 443.6ms\n",
      "Speed: 7.1ms preprocess, 443.6ms inference, 0.9ms postprocess per image at shape (1, 3, 800, 800)\n",
      "\n",
      "0: 544x800 1 License-plate, 551.2ms\n",
      "Speed: 7.5ms preprocess, 551.2ms inference, 0.9ms postprocess per image at shape (1, 3, 800, 800)\n",
      "\n"
     ]
    },
    {
     "name": "stdout",
     "output_type": "stream",
     "text": [
      "Number Plate: L 656 XH\n"
     ]
    },
    {
     "name": "stderr",
     "output_type": "stream",
     "text": [
      "0: 544x800 2 License-plates, 508.9ms\n",
      "Speed: 7.3ms preprocess, 508.9ms inference, 0.9ms postprocess per image at shape (1, 3, 800, 800)\n",
      "\n"
     ]
    },
    {
     "name": "stdout",
     "output_type": "stream",
     "text": [
      "Number Plate: L 656XH\n"
     ]
    },
    {
     "name": "stderr",
     "output_type": "stream",
     "text": [
      "0: 544x800 1 License-plate, 429.3ms\n",
      "Speed: 7.1ms preprocess, 429.3ms inference, 0.9ms postprocess per image at shape (1, 3, 800, 800)\n",
      "\n",
      "0: 544x800 1 License-plate, 483.7ms\n",
      "Speed: 6.6ms preprocess, 483.7ms inference, 0.9ms postprocess per image at shape (1, 3, 800, 800)\n",
      "\n"
     ]
    },
    {
     "name": "stdout",
     "output_type": "stream",
     "text": [
      "Number Plate: L656XH\n"
     ]
    },
    {
     "name": "stderr",
     "output_type": "stream",
     "text": [
      "0: 544x800 1 License-plate, 488.1ms\n",
      "Speed: 6.9ms preprocess, 488.1ms inference, 0.9ms postprocess per image at shape (1, 3, 800, 800)\n",
      "\n"
     ]
    },
    {
     "name": "stdout",
     "output_type": "stream",
     "text": [
      "Number Plate: L 656XH\n"
     ]
    },
    {
     "name": "stderr",
     "output_type": "stream",
     "text": [
      "0: 544x800 1 License-plate, 495.6ms\n",
      "Speed: 7.2ms preprocess, 495.6ms inference, 0.9ms postprocess per image at shape (1, 3, 800, 800)\n",
      "\n",
      "0: 544x800 1 License-plate, 466.0ms\n",
      "Speed: 7.1ms preprocess, 466.0ms inference, 1.0ms postprocess per image at shape (1, 3, 800, 800)\n",
      "\n"
     ]
    },
    {
     "name": "stdout",
     "output_type": "stream",
     "text": [
      "Number Plate: L656XH\n"
     ]
    },
    {
     "name": "stderr",
     "output_type": "stream",
     "text": [
      "0: 544x800 1 License-plate, 493.4ms\n",
      "Speed: 6.4ms preprocess, 493.4ms inference, 1.3ms postprocess per image at shape (1, 3, 800, 800)\n",
      "\n"
     ]
    },
    {
     "name": "stdout",
     "output_type": "stream",
     "text": [
      "Number Plate: L 656 XH\n"
     ]
    },
    {
     "name": "stderr",
     "output_type": "stream",
     "text": [
      "0: 544x800 1 License-plate, 490.4ms\n",
      "Speed: 6.0ms preprocess, 490.4ms inference, 0.9ms postprocess per image at shape (1, 3, 800, 800)\n",
      "\n"
     ]
    },
    {
     "name": "stdout",
     "output_type": "stream",
     "text": [
      "Number Plate: L 656XH\n"
     ]
    },
    {
     "name": "stderr",
     "output_type": "stream",
     "text": [
      "0: 544x800 1 License-plate, 583.2ms\n",
      "Speed: 7.3ms preprocess, 583.2ms inference, 1.0ms postprocess per image at shape (1, 3, 800, 800)\n",
      "\n"
     ]
    }
   ],
   "source": [
    "# Path to video file\n",
    "video_path = 'car.mp4'\n",
    "recognized_plates = recognize_number_plate(video_path)"
   ]
  },
  {
   "cell_type": "code",
   "execution_count": null,
   "id": "396e4ebe",
   "metadata": {
    "id": "396e4ebe"
   },
   "outputs": [],
   "source": []
  }
 ],
 "metadata": {
  "accelerator": "GPU",
  "colab": {
   "gpuType": "T4",
   "provenance": []
  },
  "kernelspec": {
   "display_name": "Python 3 (ipykernel)",
   "language": "python",
   "name": "python3"
  },
  "language_info": {
   "codemirror_mode": {
    "name": "ipython",
    "version": 3
   },
   "file_extension": ".py",
   "mimetype": "text/x-python",
   "name": "python",
   "nbconvert_exporter": "python",
   "pygments_lexer": "ipython3",
   "version": "3.9.13"
  }
 },
 "nbformat": 4,
 "nbformat_minor": 5
}
